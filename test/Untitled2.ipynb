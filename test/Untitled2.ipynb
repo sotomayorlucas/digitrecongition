{
 "cells": [
  {
   "cell_type": "code",
   "execution_count": 13,
   "id": "72260676",
   "metadata": {},
   "outputs": [],
   "source": [
    "import random\n",
    "X_todoTrain = [1,2,3] #ejemplo \n",
    "Y_labelsTrain = [2,3]"
   ]
  },
  {
   "cell_type": "code",
   "execution_count": 12,
   "id": "1378a424",
   "metadata": {},
   "outputs": [
    {
     "data": {
      "text/plain": [
       "[3, 2, 1]"
      ]
     },
     "execution_count": 12,
     "metadata": {},
     "output_type": "execute_result"
    }
   ],
   "source": [
    "#Dividir la base en K pliegues \n"
   ]
  }
 ],
 "metadata": {
  "kernelspec": {
   "display_name": "Python 3 (ipykernel)",
   "language": "python",
   "name": "python3"
  },
  "language_info": {
   "codemirror_mode": {
    "name": "ipython",
    "version": 3
   },
   "file_extension": ".py",
   "mimetype": "text/x-python",
   "name": "python",
   "nbconvert_exporter": "python",
   "pygments_lexer": "ipython3",
   "version": "3.9.7"
  }
 },
 "nbformat": 4,
 "nbformat_minor": 5
}
